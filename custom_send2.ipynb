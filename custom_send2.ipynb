{
 "cells": [
  {
   "cell_type": "code",
   "execution_count": null,
   "metadata": {},
   "outputs": [],
   "source": [
    "import anywidget \n",
    "import pathlib\n",
    "\n",
    "class AnyNiivue(anywidget.AnyWidget):\n",
    "  _esm = pathlib.Path.cwd() / \"src\" / \"anywidget_ipyniivue_vanillajs\"/ \"static\" / \"custom_send.js\"\n",
    "\n",
    "  def load_volumes(self, volume_list):\n",
    "    self.send({ \"type\": \"api\", \"func\": \"loadVolumes\", \"args\": [volume_list] })\n",
    "\n",
    "\n",
    "nv = AnyNiivue()\n",
    "display(nv)"
   ]
  },
  {
   "cell_type": "code",
   "execution_count": null,
   "metadata": {},
   "outputs": [],
   "source": [
    "my_volumes = [\n",
    "            {\"url\": \"images/mni152.nii.gz\"},\n",
    "            {\"url\": \"images/hippo.nii.gz\", \"colormap\": \"blue\", \"opacity\": 0.8},\n",
    "        ]\n",
    "nv.load_volumes(my_volumes)"
   ]
  },
  {
   "cell_type": "code",
   "execution_count": null,
   "metadata": {},
   "outputs": [],
   "source": []
  },
  {
   "cell_type": "code",
   "execution_count": null,
   "metadata": {},
   "outputs": [],
   "source": []
  }
 ],
 "metadata": {
  "kernelspec": {
   "display_name": ".venv",
   "language": "python",
   "name": "python3"
  },
  "language_info": {
   "codemirror_mode": {
    "name": "ipython",
    "version": 3
   },
   "file_extension": ".py",
   "mimetype": "text/x-python",
   "name": "python",
   "nbconvert_exporter": "python",
   "pygments_lexer": "ipython3",
   "version": "3.11.7"
  }
 },
 "nbformat": 4,
 "nbformat_minor": 2
}
