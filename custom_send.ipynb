{
 "cells": [
  {
   "cell_type": "code",
   "execution_count": 3,
   "metadata": {},
   "outputs": [
    {
     "data": {
      "application/vnd.jupyter.widget-view+json": {
       "model_id": "33e5f151b618405b917ab8e9422ffc1b",
       "version_major": 2,
       "version_minor": 0
      },
      "text/plain": [
       "AnyNiivue()"
      ]
     },
     "metadata": {},
     "output_type": "display_data"
    }
   ],
   "source": [
    "import anywidget \n",
    "import pathlib\n",
    "\n",
    "class AnyNiivue(anywidget.AnyWidget):\n",
    "  _esm = pathlib.Path.cwd() / \"src\" / \"anywidget_ipyniivue_vanillajs\"/ \"static\" / \"custom_send_first_idea_no_unpacking.js\"\n",
    "\n",
    "nv = AnyNiivue()\n",
    "display(nv)"
   ]
  },
  {
   "cell_type": "code",
   "execution_count": 4,
   "metadata": {},
   "outputs": [],
   "source": [
    "nv.send(\n",
    "    {\n",
    "        \"type\": \"api\",\n",
    "        \"func\": \"loadVolumes\",\n",
    "\n",
    "\n",
    "        \"args\": [\n",
    "            {\"url\": \"images/mni152.nii.gz\"},\n",
    "            {\"url\": \"images/hippo.nii.gz\", \"colormap\": \"red\"},\n",
    "        ],\n",
    "    }\n",
    ")"
   ]
  },
  {
   "cell_type": "code",
   "execution_count": null,
   "metadata": {},
   "outputs": [],
   "source": []
  }
 ],
 "metadata": {
  "kernelspec": {
   "display_name": ".venv",
   "language": "python",
   "name": "python3"
  },
  "language_info": {
   "codemirror_mode": {
    "name": "ipython",
    "version": 3
   },
   "file_extension": ".py",
   "mimetype": "text/x-python",
   "name": "python",
   "nbconvert_exporter": "python",
   "pygments_lexer": "ipython3",
   "version": "3.11.7"
  }
 },
 "nbformat": 4,
 "nbformat_minor": 2
}
